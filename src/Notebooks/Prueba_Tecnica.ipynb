{
 "cells": [
  {
   "cell_type": "markdown",
   "metadata": {},
   "source": [
    "# Prueba Técnica - Talento B\n",
    "# Sobre TRM USD-COP\n",
    "# Solución\n",
    "\n",
    "### Santiago Galvis Duque"
   ]
  },
  {
   "cell_type": "code",
   "execution_count": 1,
   "metadata": {},
   "outputs": [],
   "source": [
    "# Importando Librerias\n",
    "\n",
    "# Para analisis de datos\n",
    "import numpy as np \n",
    "import pandas as pd\n",
    "\n",
    "# Para graficos\n",
    "import matplotlib.pyplot as plt\n",
    "import seaborn as sns"
   ]
  },
  {
   "cell_type": "markdown",
   "metadata": {},
   "source": [
    "### Cargando Dataset desde carpeta Data"
   ]
  },
  {
   "cell_type": "code",
   "execution_count": 94,
   "metadata": {},
   "outputs": [
    {
     "data": {
      "text/html": [
       "<div>\n",
       "<style scoped>\n",
       "    .dataframe tbody tr th:only-of-type {\n",
       "        vertical-align: middle;\n",
       "    }\n",
       "\n",
       "    .dataframe tbody tr th {\n",
       "        vertical-align: top;\n",
       "    }\n",
       "\n",
       "    .dataframe thead th {\n",
       "        text-align: right;\n",
       "    }\n",
       "</style>\n",
       "<table border=\"1\" class=\"dataframe\">\n",
       "  <thead>\n",
       "    <tr style=\"text-align: right;\">\n",
       "      <th></th>\n",
       "      <th>fecha</th>\n",
       "      <th>fechaF</th>\n",
       "      <th>valor</th>\n",
       "    </tr>\n",
       "  </thead>\n",
       "  <tbody>\n",
       "    <tr>\n",
       "      <th>0</th>\n",
       "      <td>2024-11-23</td>\n",
       "      <td>11-2024</td>\n",
       "      <td>4418.58</td>\n",
       "    </tr>\n",
       "    <tr>\n",
       "      <th>1</th>\n",
       "      <td>2024-11-22</td>\n",
       "      <td>11-2024</td>\n",
       "      <td>4387.09</td>\n",
       "    </tr>\n",
       "    <tr>\n",
       "      <th>2</th>\n",
       "      <td>2024-11-21</td>\n",
       "      <td>11-2024</td>\n",
       "      <td>4414.06</td>\n",
       "    </tr>\n",
       "    <tr>\n",
       "      <th>3</th>\n",
       "      <td>2024-11-20</td>\n",
       "      <td>11-2024</td>\n",
       "      <td>4401.34</td>\n",
       "    </tr>\n",
       "    <tr>\n",
       "      <th>4</th>\n",
       "      <td>2024-11-19</td>\n",
       "      <td>11-2024</td>\n",
       "      <td>4400.69</td>\n",
       "    </tr>\n",
       "  </tbody>\n",
       "</table>\n",
       "</div>"
      ],
      "text/plain": [
       "       fecha   fechaF    valor\n",
       "0 2024-11-23  11-2024  4418.58\n",
       "1 2024-11-22  11-2024  4387.09\n",
       "2 2024-11-21  11-2024  4414.06\n",
       "3 2024-11-20  11-2024  4401.34\n",
       "4 2024-11-19  11-2024  4400.69"
      ]
     },
     "execution_count": 94,
     "metadata": {},
     "output_type": "execute_result"
    }
   ],
   "source": [
    "# Cargando el Dataframe con los datos de la tasa de cambio\n",
    "df_ = pd.read_csv('../../Data/Tasa_de_Cambio_Representativa_del__Mercado_-Historico.csv')\n",
    "df_ = df_.iloc[:1000] # Seleccionando solo las últimas 1000 filas\n",
    "\n",
    "df = pd.DataFrame()\n",
    "df.loc[:,'fecha'] = pd.to_datetime(df_['VIGENCIADESDE'], format='%d/%m/%Y')\n",
    "df.loc[:,'fechaF'] = pd.to_datetime(df_['VIGENCIADESDE'], format='%d/%m/%Y').dt.strftime('%m-%Y')\n",
    "df.loc[:,'valor'] = df_['VALOR'].round(4)\n",
    "df.head()"
   ]
  },
  {
   "cell_type": "code",
   "execution_count": 5,
   "metadata": {},
   "outputs": [
    {
     "data": {
      "text/html": [
       "<div>\n",
       "<style scoped>\n",
       "    .dataframe tbody tr th:only-of-type {\n",
       "        vertical-align: middle;\n",
       "    }\n",
       "\n",
       "    .dataframe tbody tr th {\n",
       "        vertical-align: top;\n",
       "    }\n",
       "\n",
       "    .dataframe thead th {\n",
       "        text-align: right;\n",
       "    }\n",
       "</style>\n",
       "<table border=\"1\" class=\"dataframe\">\n",
       "  <thead>\n",
       "    <tr style=\"text-align: right;\">\n",
       "      <th></th>\n",
       "      <th>fecha</th>\n",
       "      <th>fechaF</th>\n",
       "      <th>valor</th>\n",
       "    </tr>\n",
       "  </thead>\n",
       "  <tbody>\n",
       "    <tr>\n",
       "      <th>0</th>\n",
       "      <td>2024-11-23</td>\n",
       "      <td>11-2024</td>\n",
       "      <td>4418.58</td>\n",
       "    </tr>\n",
       "    <tr>\n",
       "      <th>1</th>\n",
       "      <td>2024-11-22</td>\n",
       "      <td>11-2024</td>\n",
       "      <td>4387.09</td>\n",
       "    </tr>\n",
       "    <tr>\n",
       "      <th>2</th>\n",
       "      <td>2024-11-21</td>\n",
       "      <td>11-2024</td>\n",
       "      <td>4414.06</td>\n",
       "    </tr>\n",
       "    <tr>\n",
       "      <th>3</th>\n",
       "      <td>2024-11-20</td>\n",
       "      <td>11-2024</td>\n",
       "      <td>4401.34</td>\n",
       "    </tr>\n",
       "    <tr>\n",
       "      <th>4</th>\n",
       "      <td>2024-11-19</td>\n",
       "      <td>11-2024</td>\n",
       "      <td>4400.69</td>\n",
       "    </tr>\n",
       "    <tr>\n",
       "      <th>...</th>\n",
       "      <td>...</td>\n",
       "      <td>...</td>\n",
       "      <td>...</td>\n",
       "    </tr>\n",
       "    <tr>\n",
       "      <th>995</th>\n",
       "      <td>2020-09-12</td>\n",
       "      <td>09-2020</td>\n",
       "      <td>3709.00</td>\n",
       "    </tr>\n",
       "    <tr>\n",
       "      <th>996</th>\n",
       "      <td>2020-09-11</td>\n",
       "      <td>09-2020</td>\n",
       "      <td>3700.28</td>\n",
       "    </tr>\n",
       "    <tr>\n",
       "      <th>997</th>\n",
       "      <td>2020-09-10</td>\n",
       "      <td>09-2020</td>\n",
       "      <td>3717.25</td>\n",
       "    </tr>\n",
       "    <tr>\n",
       "      <th>998</th>\n",
       "      <td>2020-09-09</td>\n",
       "      <td>09-2020</td>\n",
       "      <td>3757.21</td>\n",
       "    </tr>\n",
       "    <tr>\n",
       "      <th>999</th>\n",
       "      <td>2020-09-05</td>\n",
       "      <td>09-2020</td>\n",
       "      <td>3702.62</td>\n",
       "    </tr>\n",
       "  </tbody>\n",
       "</table>\n",
       "<p>1000 rows × 3 columns</p>\n",
       "</div>"
      ],
      "text/plain": [
       "         fecha   fechaF    valor\n",
       "0   2024-11-23  11-2024  4418.58\n",
       "1   2024-11-22  11-2024  4387.09\n",
       "2   2024-11-21  11-2024  4414.06\n",
       "3   2024-11-20  11-2024  4401.34\n",
       "4   2024-11-19  11-2024  4400.69\n",
       "..         ...      ...      ...\n",
       "995 2020-09-12  09-2020  3709.00\n",
       "996 2020-09-11  09-2020  3700.28\n",
       "997 2020-09-10  09-2020  3717.25\n",
       "998 2020-09-09  09-2020  3757.21\n",
       "999 2020-09-05  09-2020  3702.62\n",
       "\n",
       "[1000 rows x 3 columns]"
      ]
     },
     "execution_count": 5,
     "metadata": {},
     "output_type": "execute_result"
    }
   ],
   "source": []
  },
  {
   "cell_type": "code",
   "execution_count": 8,
   "metadata": {},
   "outputs": [
    {
     "data": {
      "text/plain": [
       "fecha     2024-11-20 00:00:00\n",
       "fechaF                12-2023\n",
       "valor                  5013.2\n",
       "dtype: object"
      ]
     },
     "execution_count": 8,
     "metadata": {},
     "output_type": "execute_result"
    }
   ],
   "source": [
    "Mask_es_Miercoles =  (df['fecha'].dt.day_of_week == 2)\n",
    "df[Mask_es_Miercoles].max()"
   ]
  },
  {
   "cell_type": "code",
   "execution_count": 65,
   "metadata": {},
   "outputs": [
    {
     "data": {
      "text/plain": [
       "fecha  fecha\n",
       "2020   9        3768.1541\n",
       "       10       3834.2186\n",
       "       11       3675.2075\n",
       "       12       3468.5038\n",
       "2021   1        3503.1267\n",
       "       2        3557.7874\n",
       "       3        3616.6471\n",
       "       4        3651.8530\n",
       "       5        3741.9625\n",
       "       6        3691.8284\n",
       "       7        3833.9410\n",
       "       8        3888.6680\n",
       "       9        3821.7233\n",
       "       10       3772.6070\n",
       "       11       3904.7559\n",
       "       12       3967.7709\n",
       "2022   1        4002.1939\n",
       "       2        3938.9458\n",
       "       3        3805.5214\n",
       "       4        3804.8820\n",
       "       5        4030.6650\n",
       "       6        3922.4980\n",
       "       7        4389.3255\n",
       "       8        4328.0324\n",
       "       9        4435.9086\n",
       "       10       4720.7358\n",
       "       11       4931.3311\n",
       "       12       4790.0370\n",
       "2023   1        4702.3050\n",
       "       2        4796.6363\n",
       "       3        4760.9614\n",
       "       4        4533.5584\n",
       "       5        4536.8300\n",
       "       6        4213.5270\n",
       "       7        4061.5256\n",
       "       8        4066.8705\n",
       "       9        4007.9552\n",
       "       10       4219.0521\n",
       "       11       4037.5142\n",
       "       12       3954.1405\n",
       "2024   1        3926.3595\n",
       "       2        3932.5550\n",
       "       3        3905.1753\n",
       "       4        3867.2505\n",
       "       5        3864.4435\n",
       "       6        4057.1267\n",
       "       7        4028.2755\n",
       "       8        4067.6181\n",
       "       9        4195.1789\n",
       "       10       4257.7641\n",
       "       11       4414.0727\n",
       "Name: valor, dtype: float64"
      ]
     },
     "execution_count": 65,
     "metadata": {},
     "output_type": "execute_result"
    }
   ],
   "source": [
    "df_a_o_mes = df['valor'].groupby([df['fecha'].dt.year,df['fecha'].dt.month])\n",
    "Media_mes = df_a_o_mes.mean().round(4)\n",
    "# Media_mes.plot(kind='bar',figsize=(15,5))\n",
    "Media_mes"
   ]
  },
  {
   "cell_type": "code",
   "execution_count": 76,
   "metadata": {},
   "outputs": [
    {
     "data": {
      "text/plain": [
       "fecha  fecha\n",
       "2020   10       3881.80\n",
       "       12       3591.84\n",
       "2021   2        3624.39\n",
       "       4        3717.46\n",
       "       6        3784.45\n",
       "       8        3988.27\n",
       "       10       3812.77\n",
       "       12       4023.68\n",
       "2022   2        3965.41\n",
       "       4        3984.77\n",
       "       6        4129.87\n",
       "       8        4413.86\n",
       "       10       4968.94\n",
       "       12       4836.24\n",
       "2023   2        4966.33\n",
       "       4        4669.00\n",
       "       6        4434.09\n",
       "       8        4144.79\n",
       "       10       4386.66\n",
       "       12       4045.22\n",
       "2024   2        3975.74\n",
       "       4        3964.59\n",
       "       6        4175.96\n",
       "       8        4184.30\n",
       "       10       4413.46\n",
       "Name: valor, dtype: float64"
      ]
     },
     "execution_count": 76,
     "metadata": {},
     "output_type": "execute_result"
    }
   ],
   "source": [
    "# df['valor'].groupby()\n",
    "Mask_mes_par = (df['fecha'].dt.month % 2 == 0)\n",
    "df[Mask_mes_par]['valor'].groupby([df['fecha'].dt.year,df['fecha'].dt.month]).max()"
   ]
  },
  {
   "cell_type": "code",
   "execution_count": 77,
   "metadata": {},
   "outputs": [],
   "source": [
    "Cambio_diario =  df['valor'].diff(periods=-1)[:-1]\n",
    "Cambio_diario "
   ]
  },
  {
   "cell_type": "code",
   "execution_count": 82,
   "metadata": {},
   "outputs": [
    {
     "data": {
      "text/plain": [
       "(473, 526)"
      ]
     },
     "execution_count": 82,
     "metadata": {},
     "output_type": "execute_result"
    }
   ],
   "source": [
    "Cambio_diario_positivo = Cambio_diario > 0 \n",
    "Cambio_diario_negativo = Cambio_diario < 0\n",
    "\n",
    "Cambio_diario_positivo.sum(), Cambio_diario_negativo.sum()"
   ]
  }
 ],
 "metadata": {
  "kernelspec": {
   "display_name": "Python 3",
   "language": "python",
   "name": "python3"
  },
  "language_info": {
   "codemirror_mode": {
    "name": "ipython",
    "version": 3
   },
   "file_extension": ".py",
   "mimetype": "text/x-python",
   "name": "python",
   "nbconvert_exporter": "python",
   "pygments_lexer": "ipython3",
   "version": "3.10.12"
  }
 },
 "nbformat": 4,
 "nbformat_minor": 2
}
