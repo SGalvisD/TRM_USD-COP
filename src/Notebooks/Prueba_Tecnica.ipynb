{
 "cells": [
  {
   "cell_type": "markdown",
   "metadata": {},
   "source": [
    "# Prueba Técnica - Talento B\n",
    "# Sobre TRM USD-COP\n",
    "# Solución\n",
    "\n",
    "### Santiago Galvis Duque"
   ]
  },
  {
   "cell_type": "code",
   "execution_count": 1,
   "metadata": {},
   "outputs": [],
   "source": [
    "# Importando Librerias\n",
    "\n",
    "# Para analisis de datos\n",
    "import numpy as np \n",
    "import pandas as pd\n",
    "\n",
    "# Para graficos\n",
    "import matplotlib.pyplot as plt\n",
    "import seaborn as sns"
   ]
  },
  {
   "cell_type": "markdown",
   "metadata": {},
   "source": [
    "### 1. Cargando Dataset desde carpeta Data\n",
    "\n",
    "Los datos fueron descargados desde la página de [datos.gov.co](https://www.datos.gov.co/Econom-a-y-Finanzas/Tasa-de-Cambio-Representativa-del-Mercado-Historic/mcec-87by/data_preview) en formato .csv. De ellos se extraerá las primeras 1000 filas, haciendo referencia a los últimos 1000 días."
   ]
  },
  {
   "cell_type": "code",
   "execution_count": 94,
   "metadata": {},
   "outputs": [
    {
     "data": {
      "text/html": [
       "<div>\n",
       "<style scoped>\n",
       "    .dataframe tbody tr th:only-of-type {\n",
       "        vertical-align: middle;\n",
       "    }\n",
       "\n",
       "    .dataframe tbody tr th {\n",
       "        vertical-align: top;\n",
       "    }\n",
       "\n",
       "    .dataframe thead th {\n",
       "        text-align: right;\n",
       "    }\n",
       "</style>\n",
       "<table border=\"1\" class=\"dataframe\">\n",
       "  <thead>\n",
       "    <tr style=\"text-align: right;\">\n",
       "      <th></th>\n",
       "      <th>fecha</th>\n",
       "      <th>fechaF</th>\n",
       "      <th>valor</th>\n",
       "    </tr>\n",
       "  </thead>\n",
       "  <tbody>\n",
       "    <tr>\n",
       "      <th>0</th>\n",
       "      <td>2024-11-23</td>\n",
       "      <td>11-2024</td>\n",
       "      <td>4418.58</td>\n",
       "    </tr>\n",
       "    <tr>\n",
       "      <th>1</th>\n",
       "      <td>2024-11-22</td>\n",
       "      <td>11-2024</td>\n",
       "      <td>4387.09</td>\n",
       "    </tr>\n",
       "    <tr>\n",
       "      <th>2</th>\n",
       "      <td>2024-11-21</td>\n",
       "      <td>11-2024</td>\n",
       "      <td>4414.06</td>\n",
       "    </tr>\n",
       "    <tr>\n",
       "      <th>3</th>\n",
       "      <td>2024-11-20</td>\n",
       "      <td>11-2024</td>\n",
       "      <td>4401.34</td>\n",
       "    </tr>\n",
       "    <tr>\n",
       "      <th>4</th>\n",
       "      <td>2024-11-19</td>\n",
       "      <td>11-2024</td>\n",
       "      <td>4400.69</td>\n",
       "    </tr>\n",
       "  </tbody>\n",
       "</table>\n",
       "</div>"
      ],
      "text/plain": [
       "       fecha   fechaF    valor\n",
       "0 2024-11-23  11-2024  4418.58\n",
       "1 2024-11-22  11-2024  4387.09\n",
       "2 2024-11-21  11-2024  4414.06\n",
       "3 2024-11-20  11-2024  4401.34\n",
       "4 2024-11-19  11-2024  4400.69"
      ]
     },
     "execution_count": 94,
     "metadata": {},
     "output_type": "execute_result"
    }
   ],
   "source": [
    "# Cargando el Dataframe con los datos de la tasa de cambio\n",
    "df_ = pd.read_csv('../../Data/Tasa_de_Cambio_Representativa_del__Mercado_-Historico.csv')\n",
    "df_ = df_.iloc[:1000] # Seleccionando solo las últimas 1000 filas\n",
    "\n",
    "# Creando un nuevo DataFrame con las columnas que se van a utilizar\n",
    "df = pd.DataFrame()\n",
    "\n",
    "# Seleccionando las columnas que se van a utilizar\n",
    "df.loc[:,'fecha'] = pd.to_datetime(df_['VIGENCIADESDE'], format='%d/%m/%Y') # Convirtiendo la fecha a formato datetime\n",
    "df.loc[:,'fechaF'] = pd.to_datetime(df_['VIGENCIADESDE'], format='%d/%m/%Y').dt.strftime('%m-%Y') # Convirtiendo fecha a formato mes-año\n",
    "df.loc[:,'valor'] = df_['VALOR'].round(4) # Redondeando el valor a 4 decimales\n",
    "df.head() # Mostrando lss primeras filas"
   ]
  },
  {
   "cell_type": "code",
   "execution_count": 96,
   "metadata": {},
   "outputs": [
    {
     "data": {
      "text/html": [
       "<div>\n",
       "<style scoped>\n",
       "    .dataframe tbody tr th:only-of-type {\n",
       "        vertical-align: middle;\n",
       "    }\n",
       "\n",
       "    .dataframe tbody tr th {\n",
       "        vertical-align: top;\n",
       "    }\n",
       "\n",
       "    .dataframe thead th {\n",
       "        text-align: right;\n",
       "    }\n",
       "</style>\n",
       "<table border=\"1\" class=\"dataframe\">\n",
       "  <thead>\n",
       "    <tr style=\"text-align: right;\">\n",
       "      <th></th>\n",
       "      <th>fecha</th>\n",
       "      <th>fechaF</th>\n",
       "      <th>valor</th>\n",
       "    </tr>\n",
       "  </thead>\n",
       "  <tbody>\n",
       "    <tr>\n",
       "      <th>0</th>\n",
       "      <td>2024-11-23</td>\n",
       "      <td>11-2024</td>\n",
       "      <td>4418.58</td>\n",
       "    </tr>\n",
       "    <tr>\n",
       "      <th>1</th>\n",
       "      <td>2024-11-22</td>\n",
       "      <td>11-2024</td>\n",
       "      <td>4387.09</td>\n",
       "    </tr>\n",
       "    <tr>\n",
       "      <th>2</th>\n",
       "      <td>2024-11-21</td>\n",
       "      <td>11-2024</td>\n",
       "      <td>4414.06</td>\n",
       "    </tr>\n",
       "    <tr>\n",
       "      <th>3</th>\n",
       "      <td>2024-11-20</td>\n",
       "      <td>11-2024</td>\n",
       "      <td>4401.34</td>\n",
       "    </tr>\n",
       "    <tr>\n",
       "      <th>4</th>\n",
       "      <td>2024-11-19</td>\n",
       "      <td>11-2024</td>\n",
       "      <td>4400.69</td>\n",
       "    </tr>\n",
       "    <tr>\n",
       "      <th>...</th>\n",
       "      <td>...</td>\n",
       "      <td>...</td>\n",
       "      <td>...</td>\n",
       "    </tr>\n",
       "    <tr>\n",
       "      <th>995</th>\n",
       "      <td>2020-09-12</td>\n",
       "      <td>09-2020</td>\n",
       "      <td>3709.00</td>\n",
       "    </tr>\n",
       "    <tr>\n",
       "      <th>996</th>\n",
       "      <td>2020-09-11</td>\n",
       "      <td>09-2020</td>\n",
       "      <td>3700.28</td>\n",
       "    </tr>\n",
       "    <tr>\n",
       "      <th>997</th>\n",
       "      <td>2020-09-10</td>\n",
       "      <td>09-2020</td>\n",
       "      <td>3717.25</td>\n",
       "    </tr>\n",
       "    <tr>\n",
       "      <th>998</th>\n",
       "      <td>2020-09-09</td>\n",
       "      <td>09-2020</td>\n",
       "      <td>3757.21</td>\n",
       "    </tr>\n",
       "    <tr>\n",
       "      <th>999</th>\n",
       "      <td>2020-09-05</td>\n",
       "      <td>09-2020</td>\n",
       "      <td>3702.62</td>\n",
       "    </tr>\n",
       "  </tbody>\n",
       "</table>\n",
       "<p>1000 rows × 3 columns</p>\n",
       "</div>"
      ],
      "text/plain": [
       "         fecha   fechaF    valor\n",
       "0   2024-11-23  11-2024  4418.58\n",
       "1   2024-11-22  11-2024  4387.09\n",
       "2   2024-11-21  11-2024  4414.06\n",
       "3   2024-11-20  11-2024  4401.34\n",
       "4   2024-11-19  11-2024  4400.69\n",
       "..         ...      ...      ...\n",
       "995 2020-09-12  09-2020  3709.00\n",
       "996 2020-09-11  09-2020  3700.28\n",
       "997 2020-09-10  09-2020  3717.25\n",
       "998 2020-09-09  09-2020  3757.21\n",
       "999 2020-09-05  09-2020  3702.62\n",
       "\n",
       "[1000 rows x 3 columns]"
      ]
     },
     "execution_count": 96,
     "metadata": {},
     "output_type": "execute_result"
    }
   ],
   "source": [
    "df"
   ]
  },
  {
   "cell_type": "markdown",
   "metadata": {},
   "source": [
    "### 2. Encontrando el Miércoles con valor de cierre más alto\n",
    "\n",
    "Para esto vamos a aprovechar el caracter columnar de un Dataframe, por tanto crearemos una Máscara booleana que nos permita seleccionar los días de la semana que sean Miércoles. Utilizamos el atributo `dt.day_of_week` el cual traduce la fecha en datetime a días de la semana de 0 a 6 comenzando por el Lunes, así, el código asignado para el Miércoles es 2. Solo resta hacer la consulta al Dataframe filtrado usando la función `max()` para la columna **valor** y por último buscar a qué índice corresponde el valor máximo encontrado."
   ]
  },
  {
   "cell_type": "code",
   "execution_count": 111,
   "metadata": {},
   "outputs": [
    {
     "name": "stdout",
     "output_type": "stream",
     "text": [
      "El máximo valor de la tasa de cambio en los días miércoles es 5013.2 y se presentó el 2022-11-09 00:00:00\n"
     ]
    }
   ],
   "source": [
    "# Creando Máscara Booleana para seleccionar los datos de los días miércoles\n",
    "Mask_es_Miercoles =  (df['fecha'].dt.day_of_week == 2)\n",
    "\n",
    "# Seleccionando los datos de los días miércoles\n",
    "df_es_Miercoles = df[Mask_es_Miercoles]\n",
    "\n",
    "# Buscando el máximo valor de la tasa de cambio en los días miércoles\n",
    "Valor_max_miercoles = df_es_Miercoles['valor'].max()\n",
    "\n",
    "# Buscando a qué fecha corresponde el máximo valor de la tasa de cambio en los días miércoles\n",
    "Dia_max_miercoles = df_es_Miercoles.loc[df_es_Miercoles['valor'].idxmax()]['fecha']\n",
    "\n",
    "print(f'El máximo valor de la tasa de cambio en los días Miércoles es {Valor_max_miercoles} y se presentó el {Dia_max_miercoles}')"
   ]
  },
  {
   "cell_type": "markdown",
   "metadata": {},
   "source": [
    "### 3. Promedio de la TRM mensual\n",
    "\n",
    "La mejor parte de tener Datasets de tipo serie de tiempo es que podemos agrupar las variables por cualquier intervalo temporal, de esta forma, usaremos el método `groupby` de pandas para agrupar primero por año y luego por mes en cada año. Luego se calcula el promedio para cada agrupación."
   ]
  },
  {
   "cell_type": "code",
   "execution_count": 167,
   "metadata": {},
   "outputs": [
    {
     "data": {
      "text/plain": [
       "fecha  fecha\n",
       "2020   9        3768.1541\n",
       "       10       3834.2186\n",
       "       11       3675.2075\n",
       "       12       3468.5038\n",
       "2021   1        3503.1267\n",
       "       2        3557.7874\n",
       "       3        3616.6471\n",
       "       4        3651.8530\n",
       "       5        3741.9625\n",
       "       6        3691.8284\n",
       "Name: valor, dtype: float64"
      ]
     },
     "execution_count": 167,
     "metadata": {},
     "output_type": "execute_result"
    }
   ],
   "source": [
    "# Agrupando el Dataset por año y luego por mes en cada año\n",
    "df_a_o_mes = df.groupby([df['fecha'].dt.year,df['fecha'].dt.month])\n",
    "\n",
    "# Calculando el valor promedio de la tasa de cambio por mes, redondeando a 4 decimales\n",
    "Promedio_mes = df_a_o_mes['valor'].mean().round(4)\n",
    "\n",
    "# Mostrando los primeros 10 valores \n",
    "Promedio_mes.head(10)"
   ]
  },
  {
   "cell_type": "markdown",
   "metadata": {},
   "source": [
    "Grafiquemos el resultado para una mejor comprensión."
   ]
  },
  {
   "cell_type": "code",
   "execution_count": 146,
   "metadata": {},
   "outputs": [
    {
     "data": {
      "image/png": "[encoded data removed]",
      "text/plain": [
       "<Figure size 1200x600 with 1 Axes>"
      ]
     },
     "metadata": {},
     "output_type": "display_data"
    }
   ],
   "source": [
    "# Crear gráfico de columnas\n",
    "fig, ax = plt.subplots(figsize=(12, 6))\n",
    "x = range(len(Promedio_mes))\n",
    "ax.plot(x, Promedio_mes.values,label = 'Promedio')\n",
    "\n",
    "# Personalizando el gráfico\n",
    "ax.set_title('Valores Promedio Mensuales de TRM ', fontsize=14)\n",
    "ax.set_xlabel('Mes',fontsize=10)\n",
    "ax.set_ylabel('COP',fontsize=10)\n",
    "ax.set_xticks(x)\n",
    "ax.set_xticklabels(Promedio_mes.keys(), rotation=90)\n",
    "ax.legend()\n",
    "ax.grid( alpha=0.8)\n",
    "\n",
    "plt.tight_layout()\n",
    "plt.show()"
   ]
  },
  {
   "cell_type": "markdown",
   "metadata": {},
   "source": [
    "### 4. Calculando el valor más alto de TRM para cada mes par.\n",
    "\n",
    "Combinando las dos funcionalidades usadas anteriormente, debemos crear una máscara booleana para seleccionar todos los meses pares y agrupar por año y mes para finalmente calcular el valor máximo en cada uno de los meses."
   ]
  },
  {
   "cell_type": "code",
   "execution_count": 166,
   "metadata": {},
   "outputs": [
    {
     "name": "stdout",
     "output_type": "stream",
     "text": [
      "El valor máximo de la tasa de cambio para los meses pares es fecha  fecha\n",
      "2020   10       3881.80\n",
      "       12       3591.84\n",
      "2021   2        3624.39\n",
      "       4        3717.46\n",
      "       6        3784.45\n",
      "       8        3988.27\n",
      "       10       3812.77\n",
      "       12       4023.68\n",
      "2022   2        3965.41\n",
      "       4        3984.77\n",
      "       6        4129.87\n",
      "       8        4413.86\n",
      "       10       4968.94\n",
      "       12       4836.24\n",
      "2023   2        4966.33\n",
      "       4        4669.00\n",
      "       6        4434.09\n",
      "       8        4144.79\n",
      "       10       4386.66\n",
      "       12       4045.22\n",
      "2024   2        3975.74\n",
      "       4        3964.59\n",
      "       6        4175.96\n",
      "       8        4184.30\n",
      "       10       4413.46\n",
      "Name: valor, dtype: float64\n"
     ]
    }
   ],
   "source": [
    "# Creando una máscara booleana para seleccionar los datos de los meses pares\n",
    "Mask_mes_par = (df['fecha'].dt.month % 2 == 0) # Sabiendo que un número es par si su reciduo mod 2 es 0\n",
    "\n",
    "# Seleccionando los datos de los meses pares\n",
    "df_Mes_par = df[Mask_mes_par]\n",
    "\n",
    "# Agrupando el Dataset por año y luego por mes en cada año y calculando el valor máximo en cada mes\n",
    "Max_Mes_par = df_Mes_par['valor'].groupby([df['fecha'].dt.year,df['fecha'].dt.month]).max()\n",
    "\n",
    "print(f'El valor máximo de la tasa de cambio para los meses pares es {Max_Mes_par:}')"
   ]
  },
  {
   "cell_type": "markdown",
   "metadata": {},
   "source": [
    "### 5. Buscando el cambio diario más pequeño\n",
    "\n",
    "Este punto se logra fácilmente gracias a la función de **numpy** `diff()` la cual aplicada como método sobre una columna del dataset calcula la diferencia con respecto a su siguiente; al estar el Dataset ordenado de presente a pasado, la diferencia debe hacerse con periodo negativo, de tal manera que se resta el término **i+1** al término **i**.\n",
    "Después, calculamos el cambio diario absoluto para encontrar la diferencia más pequeña a partir del método `min()`."
   ]
  },
  {
   "cell_type": "code",
   "execution_count": 162,
   "metadata": {},
   "outputs": [
    {
     "name": "stdout",
     "output_type": "stream",
     "text": [
      "El menor cambio diario en la TRM es 0.02\n"
     ]
    }
   ],
   "source": [
    "# Calculando el cambio diario de la TRM\n",
    "Cambio_diario =  df['valor'].diff(periods=-1)[:-1].round(4) #Exluyendo el último valor y redondeando a 4 decimales\n",
    "\n",
    "# Buscando el día con el menor cambio diario\n",
    "Menor_cambio_diario =  abs(Cambio_diario).min()\n",
    "\n",
    "print(f'El menor cambio diario en la TRM es {Menor_cambio_diario}')"
   ]
  },
  {
   "cell_type": "markdown",
   "metadata": {},
   "source": [
    "### 6. Calculando cuantos cambios positivos y negativos hay en el dataset\n",
    "\n",
    "Por último veamos que podemos calcular las diferencias positivas y negativas sumando la cantidad de True en arreglos Booleanos con las condiciones establecidas."
   ]
  },
  {
   "cell_type": "code",
   "execution_count": 168,
   "metadata": {},
   "outputs": [
    {
     "name": "stdout",
     "output_type": "stream",
     "text": [
      "El número de días con cambio diario positivo es 473 y el número de días con cambio diario negativo es 526\n"
     ]
    }
   ],
   "source": [
    "# Creando una máscara booleana para seleccionar los datos de los días con cambio diario positivo \n",
    "Cambio_diario_positivo = Cambio_diario > 0 \n",
    "\n",
    "# Creando una máscara booleana para seleccionar los datos de los días con cambio diario negativo\n",
    "Cambio_diario_negativo = Cambio_diario < 0\n",
    "\n",
    "# Sumando los valores de los cambios diarios positivos y negativos\n",
    "Num_Cambio_diario_positivo = Cambio_diario_positivo.sum()\n",
    "Num_Cambio_diario_negativo = Cambio_diario_negativo.sum()\n",
    "\n",
    "print(f'El número de días con cambio diario positivo es {Num_Cambio_diario_positivo} y el número de días con cambio diario negativo es {Num_Cambio_diario_negativo}')"
   ]
  }
 ],
 "metadata": {
  "kernelspec": {
   "display_name": "Python 3",
   "language": "python",
   "name": "python3"
  },
  "language_info": {
   "codemirror_mode": {
    "name": "ipython",
    "version": 3
   },
   "file_extension": ".py",
   "mimetype": "text/x-python",
   "name": "python",
   "nbconvert_exporter": "python",
   "pygments_lexer": "ipython3",
   "version": "3.10.12"
  }
 },
 "nbformat": 4,
 "nbformat_minor": 2
}
