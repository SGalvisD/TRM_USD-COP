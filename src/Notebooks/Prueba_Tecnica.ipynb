{
 "cells": [
  {
   "cell_type": "markdown",
   "metadata": {},
   "source": [
    "# Prueba Técnica - Talento B\n",
    "\n",
    "## Santiago Galvis Duque"
   ]
  },
  {
   "cell_type": "code",
   "execution_count": 1,
   "metadata": {},
   "outputs": [],
   "source": [
    "# Importando Librerias\n",
    "import numpy as np\n",
    "import matplotlib.pyplot as plt\n",
    "import pandas as pd"
   ]
  },
  {
   "cell_type": "code",
   "execution_count": 44,
   "metadata": {},
   "outputs": [
    {
     "data": {
      "text/html": [
       "<div>\n",
       "<style scoped>\n",
       "    .dataframe tbody tr th:only-of-type {\n",
       "        vertical-align: middle;\n",
       "    }\n",
       "\n",
       "    .dataframe tbody tr th {\n",
       "        vertical-align: top;\n",
       "    }\n",
       "\n",
       "    .dataframe thead th {\n",
       "        text-align: right;\n",
       "    }\n",
       "</style>\n",
       "<table border=\"1\" class=\"dataframe\">\n",
       "  <thead>\n",
       "    <tr style=\"text-align: right;\">\n",
       "      <th></th>\n",
       "      <th>VALOR</th>\n",
       "      <th>UNIDAD</th>\n",
       "      <th>VIGENCIADESDE</th>\n",
       "      <th>VIGENCIAHASTA</th>\n",
       "    </tr>\n",
       "  </thead>\n",
       "  <tbody>\n",
       "    <tr>\n",
       "      <th>0</th>\n",
       "      <td>4418.58</td>\n",
       "      <td>COP</td>\n",
       "      <td>23/11/2024</td>\n",
       "      <td>25/11/2024</td>\n",
       "    </tr>\n",
       "    <tr>\n",
       "      <th>1</th>\n",
       "      <td>4387.09</td>\n",
       "      <td>COP</td>\n",
       "      <td>22/11/2024</td>\n",
       "      <td>22/11/2024</td>\n",
       "    </tr>\n",
       "    <tr>\n",
       "      <th>2</th>\n",
       "      <td>4414.06</td>\n",
       "      <td>COP</td>\n",
       "      <td>21/11/2024</td>\n",
       "      <td>21/11/2024</td>\n",
       "    </tr>\n",
       "    <tr>\n",
       "      <th>3</th>\n",
       "      <td>4401.34</td>\n",
       "      <td>COP</td>\n",
       "      <td>20/11/2024</td>\n",
       "      <td>20/11/2024</td>\n",
       "    </tr>\n",
       "    <tr>\n",
       "      <th>4</th>\n",
       "      <td>4400.69</td>\n",
       "      <td>COP</td>\n",
       "      <td>19/11/2024</td>\n",
       "      <td>19/11/2024</td>\n",
       "    </tr>\n",
       "  </tbody>\n",
       "</table>\n",
       "</div>"
      ],
      "text/plain": [
       "     VALOR UNIDAD VIGENCIADESDE VIGENCIAHASTA\n",
       "0  4418.58    COP    23/11/2024    25/11/2024\n",
       "1  4387.09    COP    22/11/2024    22/11/2024\n",
       "2  4414.06    COP    21/11/2024    21/11/2024\n",
       "3  4401.34    COP    20/11/2024    20/11/2024\n",
       "4  4400.69    COP    19/11/2024    19/11/2024"
      ]
     },
     "execution_count": 44,
     "metadata": {},
     "output_type": "execute_result"
    }
   ],
   "source": [
    "df_ = pd.read_csv('../Data/Tasa_de_Cambio_Representativa_del__Mercado_-Historico.csv')\n",
    "df_ = df_.iloc[:1000]\n",
    "df_.head()"
   ]
  },
  {
   "cell_type": "code",
   "execution_count": 48,
   "metadata": {},
   "outputs": [
    {
     "name": "stdout",
     "output_type": "stream",
     "text": [
      "<class 'pandas.core.frame.DataFrame'>\n",
      "RangeIndex: 1000 entries, 0 to 999\n",
      "Data columns (total 4 columns):\n",
      " #   Column         Non-Null Count  Dtype  \n",
      "---  ------         --------------  -----  \n",
      " 0   VALOR          1000 non-null   float64\n",
      " 1   UNIDAD         1000 non-null   object \n",
      " 2   VIGENCIADESDE  1000 non-null   object \n",
      " 3   VIGENCIAHASTA  1000 non-null   object \n",
      "dtypes: float64(1), object(3)\n",
      "memory usage: 31.4+ KB\n"
     ]
    }
   ],
   "source": [
    "df_.info()"
   ]
  },
  {
   "cell_type": "code",
   "execution_count": 56,
   "metadata": {},
   "outputs": [
    {
     "data": {
      "text/html": [
       "<div>\n",
       "<style scoped>\n",
       "    .dataframe tbody tr th:only-of-type {\n",
       "        vertical-align: middle;\n",
       "    }\n",
       "\n",
       "    .dataframe tbody tr th {\n",
       "        vertical-align: top;\n",
       "    }\n",
       "\n",
       "    .dataframe thead th {\n",
       "        text-align: right;\n",
       "    }\n",
       "</style>\n",
       "<table border=\"1\" class=\"dataframe\">\n",
       "  <thead>\n",
       "    <tr style=\"text-align: right;\">\n",
       "      <th></th>\n",
       "      <th>fecha</th>\n",
       "      <th>fechaF</th>\n",
       "      <th>valor</th>\n",
       "    </tr>\n",
       "  </thead>\n",
       "  <tbody>\n",
       "    <tr>\n",
       "      <th>0</th>\n",
       "      <td>2024-11-23</td>\n",
       "      <td>11-2024</td>\n",
       "      <td>4418.58</td>\n",
       "    </tr>\n",
       "    <tr>\n",
       "      <th>1</th>\n",
       "      <td>2024-11-22</td>\n",
       "      <td>11-2024</td>\n",
       "      <td>4387.09</td>\n",
       "    </tr>\n",
       "    <tr>\n",
       "      <th>2</th>\n",
       "      <td>2024-11-21</td>\n",
       "      <td>11-2024</td>\n",
       "      <td>4414.06</td>\n",
       "    </tr>\n",
       "    <tr>\n",
       "      <th>3</th>\n",
       "      <td>2024-11-20</td>\n",
       "      <td>11-2024</td>\n",
       "      <td>4401.34</td>\n",
       "    </tr>\n",
       "    <tr>\n",
       "      <th>4</th>\n",
       "      <td>2024-11-19</td>\n",
       "      <td>11-2024</td>\n",
       "      <td>4400.69</td>\n",
       "    </tr>\n",
       "    <tr>\n",
       "      <th>...</th>\n",
       "      <td>...</td>\n",
       "      <td>...</td>\n",
       "      <td>...</td>\n",
       "    </tr>\n",
       "    <tr>\n",
       "      <th>995</th>\n",
       "      <td>2020-09-12</td>\n",
       "      <td>09-2020</td>\n",
       "      <td>3709.00</td>\n",
       "    </tr>\n",
       "    <tr>\n",
       "      <th>996</th>\n",
       "      <td>2020-09-11</td>\n",
       "      <td>09-2020</td>\n",
       "      <td>3700.28</td>\n",
       "    </tr>\n",
       "    <tr>\n",
       "      <th>997</th>\n",
       "      <td>2020-09-10</td>\n",
       "      <td>09-2020</td>\n",
       "      <td>3717.25</td>\n",
       "    </tr>\n",
       "    <tr>\n",
       "      <th>998</th>\n",
       "      <td>2020-09-09</td>\n",
       "      <td>09-2020</td>\n",
       "      <td>3757.21</td>\n",
       "    </tr>\n",
       "    <tr>\n",
       "      <th>999</th>\n",
       "      <td>2020-09-05</td>\n",
       "      <td>09-2020</td>\n",
       "      <td>3702.62</td>\n",
       "    </tr>\n",
       "  </tbody>\n",
       "</table>\n",
       "<p>1000 rows × 3 columns</p>\n",
       "</div>"
      ],
      "text/plain": [
       "         fecha   fechaF    valor\n",
       "0   2024-11-23  11-2024  4418.58\n",
       "1   2024-11-22  11-2024  4387.09\n",
       "2   2024-11-21  11-2024  4414.06\n",
       "3   2024-11-20  11-2024  4401.34\n",
       "4   2024-11-19  11-2024  4400.69\n",
       "..         ...      ...      ...\n",
       "995 2020-09-12  09-2020  3709.00\n",
       "996 2020-09-11  09-2020  3700.28\n",
       "997 2020-09-10  09-2020  3717.25\n",
       "998 2020-09-09  09-2020  3757.21\n",
       "999 2020-09-05  09-2020  3702.62\n",
       "\n",
       "[1000 rows x 3 columns]"
      ]
     },
     "execution_count": 56,
     "metadata": {},
     "output_type": "execute_result"
    }
   ],
   "source": [
    "df = pd.DataFrame()\n",
    "df.loc[:,'fecha'] = pd.to_datetime(df_['VIGENCIADESDE'], format='%d/%m/%Y')\n",
    "df.loc[:,'fechaF'] = pd.to_datetime(df_['VIGENCIADESDE'], format='%d/%m/%Y').dt.strftime('%m-%Y')\n",
    "df.loc[:,'valor'] = df_['VALOR'].round(4)\n",
    "df"
   ]
  },
  {
   "cell_type": "code",
   "execution_count": 79,
   "metadata": {},
   "outputs": [
    {
     "data": {
      "text/plain": [
       "5013.2"
      ]
     },
     "execution_count": 79,
     "metadata": {},
     "output_type": "execute_result"
    }
   ],
   "source": [
    "df[df['fecha'].dt.day_of_week == 2].query('valor')"
   ]
  },
  {
   "cell_type": "code",
   "execution_count": 82,
   "metadata": {},
   "outputs": [
    {
     "data": {
      "text/plain": [
       "<Axes: >"
      ]
     },
     "execution_count": 82,
     "metadata": {},
     "output_type": "execute_result"
    },
    {
     "data": {
      "image/png": "[encoded data removed]",
      "text/plain": [
       "<Figure size 640x480 with 1 Axes>"
      ]
     },
     "metadata": {},
     "output_type": "display_data"
    }
   ],
   "source": [
    "df['valor'].diff(periods=-1).hist()"
   ]
  }
 ],
 "metadata": {
  "kernelspec": {
   "display_name": "Python 3",
   "language": "python",
   "name": "python3"
  },
  "language_info": {
   "codemirror_mode": {
    "name": "ipython",
    "version": 3
   },
   "file_extension": ".py",
   "mimetype": "text/x-python",
   "name": "python",
   "nbconvert_exporter": "python",
   "pygments_lexer": "ipython3",
   "version": "3.10.12"
  }
 },
 "nbformat": 4,
 "nbformat_minor": 2
}
